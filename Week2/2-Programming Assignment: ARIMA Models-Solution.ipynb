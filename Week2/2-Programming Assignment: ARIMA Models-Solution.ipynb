{
 "cells": [
  {
   "cell_type": "code",
   "execution_count": 1,
   "metadata": {},
   "outputs": [
    {
     "data": {
      "text/plain": [
       "\"\\nImplementing an ARIMA Model in Python\\n\\nIn this notebook, we'll use an arima model to make predict gdp levels in future years.\\n\""
      ]
     },
     "execution_count": 1,
     "metadata": {},
     "output_type": "execute_result"
    }
   ],
   "source": [
    "'''\n",
    "Implementing an ARIMA Model in Python\n",
    "\n",
    "In this notebook, we'll use an arima model to make predict gdp levels in future years.\n",
    "'''"
   ]
  },
  {
   "cell_type": "code",
   "execution_count": 2,
   "metadata": {},
   "outputs": [
    {
     "data": {
      "text/html": [
       "<div>\n",
       "<style scoped>\n",
       "    .dataframe tbody tr th:only-of-type {\n",
       "        vertical-align: middle;\n",
       "    }\n",
       "\n",
       "    .dataframe tbody tr th {\n",
       "        vertical-align: top;\n",
       "    }\n",
       "\n",
       "    .dataframe thead th {\n",
       "        text-align: right;\n",
       "    }\n",
       "</style>\n",
       "<table border=\"1\" class=\"dataframe\">\n",
       "  <thead>\n",
       "    <tr style=\"text-align: right;\">\n",
       "      <th></th>\n",
       "      <th>date</th>\n",
       "      <th>level-current</th>\n",
       "      <th>level-chained</th>\n",
       "      <th>change-current</th>\n",
       "      <th>change-chained</th>\n",
       "    </tr>\n",
       "  </thead>\n",
       "  <tbody>\n",
       "    <tr>\n",
       "      <th>0</th>\n",
       "      <td>1947-04-01</td>\n",
       "      <td>246.3</td>\n",
       "      <td>1932.3</td>\n",
       "      <td>6.4</td>\n",
       "      <td>-0.4</td>\n",
       "    </tr>\n",
       "    <tr>\n",
       "      <th>1</th>\n",
       "      <td>1947-07-01</td>\n",
       "      <td>250.1</td>\n",
       "      <td>1930.3</td>\n",
       "      <td>17.3</td>\n",
       "      <td>6.4</td>\n",
       "    </tr>\n",
       "    <tr>\n",
       "      <th>2</th>\n",
       "      <td>1947-10-01</td>\n",
       "      <td>260.3</td>\n",
       "      <td>1960.7</td>\n",
       "      <td>9.3</td>\n",
       "      <td>6.0</td>\n",
       "    </tr>\n",
       "    <tr>\n",
       "      <th>3</th>\n",
       "      <td>1948-01-01</td>\n",
       "      <td>266.2</td>\n",
       "      <td>1989.5</td>\n",
       "      <td>10.5</td>\n",
       "      <td>6.7</td>\n",
       "    </tr>\n",
       "    <tr>\n",
       "      <th>4</th>\n",
       "      <td>1948-04-01</td>\n",
       "      <td>272.9</td>\n",
       "      <td>2021.9</td>\n",
       "      <td>10.0</td>\n",
       "      <td>2.3</td>\n",
       "    </tr>\n",
       "  </tbody>\n",
       "</table>\n",
       "</div>"
      ],
      "text/plain": [
       "         date  level-current  level-chained  change-current  change-chained\n",
       "0  1947-04-01          246.3         1932.3             6.4            -0.4\n",
       "1  1947-07-01          250.1         1930.3            17.3             6.4\n",
       "2  1947-10-01          260.3         1960.7             9.3             6.0\n",
       "3  1948-01-01          266.2         1989.5            10.5             6.7\n",
       "4  1948-04-01          272.9         2021.9            10.0             2.3"
      ]
     },
     "execution_count": 2,
     "metadata": {},
     "output_type": "execute_result"
    }
   ],
   "source": [
    "### Import libraries and load in data into a dataframe called 'df'.\n",
    "### This dataset gives US GDP levels from 1947-2017. \n",
    "### In this assignment, our goal is to predict future levels (2018+)\n",
    "\n",
    "import os\n",
    "import pandas as pd\n",
    "import numpy as np\n",
    "\n",
    "# Path to the root folder by going up two levels from the current directory\n",
    "root_folder = os.path.join('..', 'Datasets')\n",
    "\n",
    "# Path to file.csv within the datasets folder under the root folder\n",
    "csv_file_path = os.path.join(root_folder, 'quarter.csv')\n",
    "\n",
    "df = pd.read_csv(csv_file_path)\n",
    "df.head()"
   ]
  },
  {
   "cell_type": "code",
   "execution_count": 3,
   "metadata": {},
   "outputs": [],
   "source": [
    "## Part A (30 pts)\n",
    "\n",
    "''' \n",
    "i) Convert the values in the 'date' column into datetime objects. Set the index of the dataframe to the 'date' column. \n",
    "\n",
    "ii) Delete all columns except for 'level-current', making sure the data is still in a DataFrame format instead of a series.\n",
    "\n",
    "Both i-ii should be done in place to the 'df' dataframe.\n",
    "'''\n",
    "\n",
    "df['date'] = pd.to_datetime(df['date'])\n",
    "df.set_index('date', inplace = True)\n",
    "df = pd.DataFrame(df['level-current'])"
   ]
  },
  {
   "cell_type": "code",
   "execution_count": 4,
   "metadata": {},
   "outputs": [
    {
     "name": "stderr",
     "output_type": "stream",
     "text": [
      "/Users/main/anaconda3/envs/tsenv/lib/python3.11/site-packages/statsmodels/tsa/base/tsa_model.py:473: ValueWarning: No frequency information was provided, so inferred frequency QS-OCT will be used.\n",
      "  self._init_dates(dates, freq)\n",
      "/Users/main/anaconda3/envs/tsenv/lib/python3.11/site-packages/statsmodels/tsa/base/tsa_model.py:473: ValueWarning: No frequency information was provided, so inferred frequency QS-OCT will be used.\n",
      "  self._init_dates(dates, freq)\n",
      " This problem is unconstrained.\n"
     ]
    },
    {
     "name": "stdout",
     "output_type": "stream",
     "text": [
      "RUNNING THE L-BFGS-B CODE\n",
      "\n",
      "           * * *\n",
      "\n",
      "Machine precision = 2.220D-16\n",
      " N =            4     M =           10\n",
      "\n",
      "At X0         0 variables are exactly at the bounds\n",
      "\n",
      "At iterate    0    f=  7.65498D+00    |proj g|=  5.09603D-01\n",
      "\n",
      "At iterate    5    f=  7.17040D+00    |proj g|=  1.75729D-02\n",
      "\n",
      "At iterate   10    f=  7.16664D+00    |proj g|=  8.26784D-04\n",
      "\n",
      "At iterate   15    f=  7.16635D+00    |proj g|=  8.62438D-03\n",
      "\n",
      "At iterate   20    f=  7.15231D+00    |proj g|=  7.73740D-02\n",
      "\n",
      "At iterate   25    f=  7.04862D+00    |proj g|=  2.08447D-01\n",
      "  ys=-3.660E-01  -gs= 7.139E-01 BFGS update SKIPPED\n",
      "\n",
      "At iterate   30    f=  6.40252D+00    |proj g|=  3.27146D-01\n",
      "\n",
      "At iterate   35    f=  6.14656D+00    |proj g|=  3.17124D-01\n",
      "\n",
      "At iterate   40    f=  6.14236D+00    |proj g|=  1.83602D-03\n",
      "\n",
      "           * * *\n",
      "\n",
      "Tit   = total number of iterations\n",
      "Tnf   = total number of function evaluations\n",
      "Tnint = total number of segments explored during Cauchy searches\n",
      "Skip  = number of BFGS updates skipped\n",
      "Nact  = number of active bounds at final generalized Cauchy point\n",
      "Projg = norm of the final projected gradient\n",
      "F     = final function value\n",
      "\n",
      "           * * *\n",
      "\n",
      "   N    Tit     Tnf  Tnint  Skip  Nact     Projg        F\n",
      "    4     42     76      1     1     0   3.012D-05   6.142D+00\n",
      "  F =   6.1423641239449802     \n",
      "\n",
      "CONVERGENCE: REL_REDUCTION_OF_F_<=_FACTR*EPSMCH             \n"
     ]
    }
   ],
   "source": [
    "## Part B (50 pts)\n",
    "\n",
    "''' \n",
    "i) Import the 'statsmodels.api' library. We'll be using the SARIMA model from here. \n",
    "Refer to the documentation here: https://www.statsmodels.org/stable/generated/statsmodels.tsa.statespace.sarimax.SARIMAX.html\n",
    "\n",
    "ii) Create a SARIMAX model on the dataframe with the following paramaters:\n",
    "order=(0, 0, 1),=(1, 1, 1, 12), enforce_stationarity=False, enforce_invertibility=False.\n",
    "\n",
    "iii) Fit the model on the data and store it in a variable called 'results'.\n",
    "'''\n",
    "\n",
    "import statsmodels.api as sm\n",
    "\n",
    "y = df['level-current']\n",
    "\n",
    "mod = sm.tsa.statespace.SARIMAX(y,\n",
    "                                order=(0, 0, 1),\n",
    "                                seasonal_order=(1, 1, 1, 12),\n",
    "                                enforce_stationarity=False,\n",
    "                                enforce_invertibility=False)\n",
    "results = mod.fit()"
   ]
  },
  {
   "cell_type": "code",
   "execution_count": 5,
   "metadata": {},
   "outputs": [
    {
     "name": "stderr",
     "output_type": "stream",
     "text": [
      "/var/folders/9w/p3vhwm0x1s1fy0rzmlp_h4qw0000gn/T/ipykernel_6299/743842181.py:11: FutureWarning: Series.__getitem__ treating keys as positions is deprecated. In a future version, integer keys will always be treated as labels (consistent with DataFrame behavior). To access a value by position, use `ser.iloc[pos]`\n",
      "  pred_ci = (pred_cit.iloc[0][0], pred_cit.iloc[0][1])\n"
     ]
    }
   ],
   "source": [
    "## Part C (20 pts)\n",
    "\n",
    "''' \n",
    "i) Generate a 95% confidence interval for predictions starting on 1/1/2018. \n",
    "Store it in a tuple variable called 'pred_ci'.\n",
    "'pred_ci' should be of the form (lower_bound, upper_bound) where lower_bound and upper_bound are decimals.\n",
    "'''\n",
    "\n",
    "pred = results.get_prediction(start=pd.to_datetime('1/1/2018'))\n",
    "pred_cit = pred.conf_int()\n",
    "pred_ci = (pred_cit.iloc[0][0], pred_cit.iloc[0][1])"
   ]
  },
  {
   "cell_type": "code",
   "execution_count": 6,
   "metadata": {},
   "outputs": [
    {
     "data": {
      "text/plain": [
       "(19274.707038840155, 20409.6717092825)"
      ]
     },
     "execution_count": 6,
     "metadata": {},
     "output_type": "execute_result"
    }
   ],
   "source": [
    "pred_ci"
   ]
  },
  {
   "cell_type": "code",
   "execution_count": null,
   "metadata": {},
   "outputs": [],
   "source": []
  }
 ],
 "metadata": {
  "kernelspec": {
   "display_name": "Python 3",
   "language": "python",
   "name": "python3"
  },
  "language_info": {
   "codemirror_mode": {
    "name": "ipython",
    "version": 3
   },
   "file_extension": ".py",
   "mimetype": "text/x-python",
   "name": "python",
   "nbconvert_exporter": "python",
   "pygments_lexer": "ipython3",
   "version": "3.11.8"
  }
 },
 "nbformat": 4,
 "nbformat_minor": 4
}
